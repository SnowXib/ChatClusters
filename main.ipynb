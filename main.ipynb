{
 "cells": [
  {
   "cell_type": "markdown",
   "id": "b2a98e0f",
   "metadata": {},
   "source": [
    "## Импорты "
   ]
  },
  {
   "cell_type": "code",
   "execution_count": 2,
   "id": "31770fde",
   "metadata": {},
   "outputs": [
    {
     "name": "stderr",
     "output_type": "stream",
     "text": [
      "/Users/leo/utils/chat_clusters/venv/lib/python3.13/site-packages/tqdm/auto.py:21: TqdmWarning: IProgress not found. Please update jupyter and ipywidgets. See https://ipywidgets.readthedocs.io/en/stable/user_install.html\n",
      "  from .autonotebook import tqdm as notebook_tqdm\n"
     ]
    }
   ],
   "source": [
    "import pandas as pd\n",
    "import asyncio\n",
    "import nest_asyncio\n",
    "\n",
    "from embedding_gen import process_embeddings\n",
    "from parser import chat_parsing\n",
    "from defs import API_KEY, TARGET_ROW\n",
    "from clustering import clustering"
   ]
  },
  {
   "cell_type": "markdown",
   "id": "5df2b801",
   "metadata": {},
   "source": [
    "## Парсинг сообщений с json"
   ]
  },
  {
   "cell_type": "code",
   "execution_count": 3,
   "id": "622cb315",
   "metadata": {},
   "outputs": [
    {
     "name": "stdout",
     "output_type": "stream",
     "text": [
      "<bound method NDFrame.head of                                              messages\n",
      "0                                            Приветик\n",
      "1      самый прикол, что поддержка вообще не отвечает\n",
      "2    как там 11 класс, уже начала готовиться к экзам?\n",
      "3                                               хахах\n",
      "4                                        на 4 перешел\n",
      "..                                                ...\n",
      "243                        Так, 5 сек и на все отвечу\n",
      "244          По моим глазам видно как я тут счастлива\n",
      "245                                        Любимый :)\n",
      "246                                     Кривой мудак.\n",
      "247                               Хахахахахахахахахах\n",
      "\n",
      "[248 rows x 1 columns]>\n"
     ]
    }
   ],
   "source": [
    "chat_data = chat_parsing('result.json')\n",
    "\n",
    "df = pd.DataFrame({'messages': chat_data['user_1'] + chat_data['user_2']})\n",
    "df = df.dropna(subset=['messages'])\n",
    "\n",
    "print(df.head)"
   ]
  },
  {
   "cell_type": "markdown",
   "id": "0f9d567c",
   "metadata": {},
   "source": [
    "## Генерация embeddings"
   ]
  },
  {
   "cell_type": "code",
   "execution_count": null,
   "id": "9cc5aa38",
   "metadata": {},
   "outputs": [],
   "source": [
    "nest_asyncio.apply()\n",
    "\n",
    "df_with_embeddings = asyncio.run(process_embeddings(df, API_KEY, 'messages'))\n",
    "df_with_embeddings = df_with_embeddings.dropna(subset=['embedding'])\n",
    "\n",
    "df_with_embeddings.to_csv('combined_dataset_with_embeddings.csv', index=False)\n",
    "\n",
    "print(df_with_embeddings.head)\n",
    "\n",
    "# Может не сработать из-за нового питона, в таком случае запустить main.py"
   ]
  },
  {
   "cell_type": "markdown",
   "id": "e5a5d014",
   "metadata": {},
   "source": [
    "## Кластеризация"
   ]
  },
  {
   "cell_type": "code",
   "execution_count": 7,
   "id": "d425334a",
   "metadata": {},
   "outputs": [
    {
     "name": "stderr",
     "output_type": "stream",
     "text": [
      "Clustering progress:  10%|█         | 10/100 [00:00<00:03, 23.72it/s]/Users/leo/utils/chat_clusters/venv/lib/python3.13/site-packages/sklearn/manifold/_mds.py:677: FutureWarning: The default value of `n_init` will change from 4 to 1 in 1.9.\n",
      "  warnings.warn(\n",
      "Clustering progress: 110it [00:00, 125.59it/s]                        \n"
     ]
    }
   ],
   "source": [
    "df_with_embeddings = pd.read_csv('combined_dataset_with_embeddings.csv')\n",
    "\n",
    "result = clustering(\n",
    "    df=df_with_embeddings,\n",
    "    info_row=TARGET_ROW,\n",
    "    input_algoritm=2,  # 1-ICA, 2-MDS, 3-PCA, 4-TSNE, 5-UMAP\n",
    "    count_clusters=50,   \n",
    ")"
   ]
  }
 ],
 "metadata": {
  "kernelspec": {
   "display_name": "venv",
   "language": "python",
   "name": "python3"
  },
  "language_info": {
   "codemirror_mode": {
    "name": "ipython",
    "version": 3
   },
   "file_extension": ".py",
   "mimetype": "text/x-python",
   "name": "python",
   "nbconvert_exporter": "python",
   "pygments_lexer": "ipython3",
   "version": "3.13.9"
  }
 },
 "nbformat": 4,
 "nbformat_minor": 5
}
